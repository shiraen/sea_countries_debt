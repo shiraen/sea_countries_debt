{
 "cells": [
  {
   "cell_type": "markdown",
   "id": "c18621f3",
   "metadata": {},
   "source": [
    "# South East Asian Countries Debt Analysis "
   ]
  },
  {
   "cell_type": "markdown",
   "id": "77dda112",
   "metadata": {},
   "source": [
    "### Table of Contents\n",
    "* [Introduction](#intro)\n",
    "* [Goals](#goals)\n",
    "* [Data](#Data)\n",
    "    * [Loading the Data](#section1_1)\n",
    "    * [Data Information](#section1_2)\n",
    "* [Data Cleaning](#cleaning)\n",
    "    * [Getting the Relevant Data](#section2_1)\n",
    "    * [Treatment of Missing Values](#section2_2)\n",
    "* [Exploratory Data Analysis](#EDA)\n",
    "    * [SEA Countries Distribution of Debt for the years 2012 to 2022](#section3_1)\n",
    "    * [SEA Countries with the Highest and Lowest Average Debt ](#section3_2)\n",
    "    * [SEA Countries Total Debt for the years 2012 to 2022](#section3_3)\n",
    "* [Conclusion](#conclusion)"
   ]
  },
  {
   "cell_type": "markdown",
   "id": "bbeb7fd4",
   "metadata": {},
   "source": [
    "## Introduction <a id='intro'></a>\n",
    "\n",
    "Southeast Asia is a diverse region, consisting of 11 countries with distinct cultures, traditions, and economic profiles. These countries are Brunei Darussalam, Cambodia, Indonesia, Laos, Malaysia, Myanmar, the Philippines, Singapore, Thailand, Timor-Leste, and Vietnam. While some of these countries have experienced significant economic growth and development in recent years, others remain categorized as low and middle-income countries.\n",
    "\n",
    "This exploratory debt analysis project focuses on six Southeast Asian countries that are categorized as low and middle-income countries, namely Cambodia, Indonesia, Myanmar, Philippines, Thailand, and Vietnam. These countries face unique challenges in reducing poverty, improving access to basic services, and promoting sustainable economic growth, which have been further exacerbated by the COVID-19 pandemic.\n",
    "\n",
    "The project aims to provide an overview of the public debt situation in these countries over a 10-year period. Through the analysis of the drivers of public debt accumulation and the identification of potential risks and challenges, this project will offer insights into the economic vulnerabilities of these countries and inform policy interventions to improve debt management and reduce debt vulnerabilities.\n",
    "\n",
    "The results of this exploratory debt analysis project will provide valuable information for policymakers, investors, and other stakeholders in the region. It will support evidence-based decision-making and inform the development of policies and strategies to enhance economic stability, reduce public debt vulnerabilities, and promote sustainable economic growth in Southeast Asia."
   ]
  },
  {
   "cell_type": "markdown",
   "id": "370e4311",
   "metadata": {},
   "source": [
    "## Goals <a class=\"anchor\" id=\"Goals\"></a>\n",
    "The goal of this analysis is to analyze the external debt of low and middle-income countries in South East Asia for the years 2011 to 2021. The objectives are the following:\n",
    "- Get acquainted with the data\n",
    "- Make the data analysis-ready by cleaning it and getting the relevant data\n",
    "- Form research questions\n",
    "- Analyze variables within the data to gain insights on these questions"
   ]
  },
  {
   "cell_type": "markdown",
   "id": "848d15cc",
   "metadata": {},
   "source": [
    "## Data <a class=\"anchor\" id=\"Data\"></a>\n",
    "The data for this analysis was retreived from the World Bank's [International Debt Statistics](https://datacatalog.worldbank.org/search/dataset/0038015/International-Debt-Statistics). International Debt Statistics (IDS) provides a timely and comprehensive data on the external debt in low- and middle-income countries."
   ]
  },
  {
   "cell_type": "markdown",
   "id": "4434d354",
   "metadata": {},
   "source": [
    "#### Loading the Data <a class=\"anchor\" id=\"section1_1\"></a>"
   ]
  },
  {
   "cell_type": "code",
   "execution_count": 105,
   "id": "a4ec9ce0",
   "metadata": {},
   "outputs": [],
   "source": [
    "import pandas as pd\n",
    "import numpy as np\n",
    "import matplotlib.pyplot as plt\n",
    "import seaborn as sns\n",
    "sns.set_theme(style='whitegrid')"
   ]
  },
  {
   "cell_type": "code",
   "execution_count": 106,
   "id": "cda889ab",
   "metadata": {},
   "outputs": [
    {
     "data": {
      "text/html": [
       "<div>\n",
       "<style scoped>\n",
       "    .dataframe tbody tr th:only-of-type {\n",
       "        vertical-align: middle;\n",
       "    }\n",
       "\n",
       "    .dataframe tbody tr th {\n",
       "        vertical-align: top;\n",
       "    }\n",
       "\n",
       "    .dataframe thead th {\n",
       "        text-align: right;\n",
       "    }\n",
       "</style>\n",
       "<table border=\"1\" class=\"dataframe\">\n",
       "  <thead>\n",
       "    <tr style=\"text-align: right;\">\n",
       "      <th></th>\n",
       "      <th>Country Name</th>\n",
       "      <th>Country Code</th>\n",
       "      <th>Counterpart-Area Name</th>\n",
       "      <th>Counterpart-Area Code</th>\n",
       "      <th>Series Name</th>\n",
       "      <th>Series Code</th>\n",
       "      <th>1970</th>\n",
       "      <th>1971</th>\n",
       "      <th>1972</th>\n",
       "      <th>1973</th>\n",
       "      <th>...</th>\n",
       "      <th>2020</th>\n",
       "      <th>2021</th>\n",
       "      <th>2022</th>\n",
       "      <th>2023</th>\n",
       "      <th>2024</th>\n",
       "      <th>2025</th>\n",
       "      <th>2026</th>\n",
       "      <th>2027</th>\n",
       "      <th>2028</th>\n",
       "      <th>2029</th>\n",
       "    </tr>\n",
       "  </thead>\n",
       "  <tbody>\n",
       "    <tr>\n",
       "      <th>0</th>\n",
       "      <td>Afghanistan</td>\n",
       "      <td>AFG</td>\n",
       "      <td>World</td>\n",
       "      <td>WLD</td>\n",
       "      <td>Average grace period on new external debt comm...</td>\n",
       "      <td>DT.GPA.DPPG</td>\n",
       "      <td>NaN</td>\n",
       "      <td>NaN</td>\n",
       "      <td>NaN</td>\n",
       "      <td>NaN</td>\n",
       "      <td>...</td>\n",
       "      <td>0.0</td>\n",
       "      <td>0.0</td>\n",
       "      <td>NaN</td>\n",
       "      <td>NaN</td>\n",
       "      <td>NaN</td>\n",
       "      <td>NaN</td>\n",
       "      <td>NaN</td>\n",
       "      <td>NaN</td>\n",
       "      <td>NaN</td>\n",
       "      <td>NaN</td>\n",
       "    </tr>\n",
       "    <tr>\n",
       "      <th>1</th>\n",
       "      <td>Afghanistan</td>\n",
       "      <td>AFG</td>\n",
       "      <td>World</td>\n",
       "      <td>WLD</td>\n",
       "      <td>Average grace period on new external debt comm...</td>\n",
       "      <td>DT.GPA.OFFT</td>\n",
       "      <td>NaN</td>\n",
       "      <td>NaN</td>\n",
       "      <td>NaN</td>\n",
       "      <td>NaN</td>\n",
       "      <td>...</td>\n",
       "      <td>0.0</td>\n",
       "      <td>0.0</td>\n",
       "      <td>NaN</td>\n",
       "      <td>NaN</td>\n",
       "      <td>NaN</td>\n",
       "      <td>NaN</td>\n",
       "      <td>NaN</td>\n",
       "      <td>NaN</td>\n",
       "      <td>NaN</td>\n",
       "      <td>NaN</td>\n",
       "    </tr>\n",
       "    <tr>\n",
       "      <th>2</th>\n",
       "      <td>Afghanistan</td>\n",
       "      <td>AFG</td>\n",
       "      <td>World</td>\n",
       "      <td>WLD</td>\n",
       "      <td>Average grace period on new external debt comm...</td>\n",
       "      <td>DT.GPA.PRVT</td>\n",
       "      <td>NaN</td>\n",
       "      <td>NaN</td>\n",
       "      <td>NaN</td>\n",
       "      <td>NaN</td>\n",
       "      <td>...</td>\n",
       "      <td>0.0</td>\n",
       "      <td>0.0</td>\n",
       "      <td>NaN</td>\n",
       "      <td>NaN</td>\n",
       "      <td>NaN</td>\n",
       "      <td>NaN</td>\n",
       "      <td>NaN</td>\n",
       "      <td>NaN</td>\n",
       "      <td>NaN</td>\n",
       "      <td>NaN</td>\n",
       "    </tr>\n",
       "    <tr>\n",
       "      <th>3</th>\n",
       "      <td>Afghanistan</td>\n",
       "      <td>AFG</td>\n",
       "      <td>World</td>\n",
       "      <td>WLD</td>\n",
       "      <td>Average grant element on new external debt com...</td>\n",
       "      <td>DT.GRE.DPPG</td>\n",
       "      <td>NaN</td>\n",
       "      <td>NaN</td>\n",
       "      <td>NaN</td>\n",
       "      <td>NaN</td>\n",
       "      <td>...</td>\n",
       "      <td>0.0</td>\n",
       "      <td>0.0</td>\n",
       "      <td>NaN</td>\n",
       "      <td>NaN</td>\n",
       "      <td>NaN</td>\n",
       "      <td>NaN</td>\n",
       "      <td>NaN</td>\n",
       "      <td>NaN</td>\n",
       "      <td>NaN</td>\n",
       "      <td>NaN</td>\n",
       "    </tr>\n",
       "    <tr>\n",
       "      <th>4</th>\n",
       "      <td>Afghanistan</td>\n",
       "      <td>AFG</td>\n",
       "      <td>World</td>\n",
       "      <td>WLD</td>\n",
       "      <td>Average grant element on new external debt com...</td>\n",
       "      <td>DT.GRE.OFFT</td>\n",
       "      <td>NaN</td>\n",
       "      <td>NaN</td>\n",
       "      <td>NaN</td>\n",
       "      <td>NaN</td>\n",
       "      <td>...</td>\n",
       "      <td>0.0</td>\n",
       "      <td>0.0</td>\n",
       "      <td>NaN</td>\n",
       "      <td>NaN</td>\n",
       "      <td>NaN</td>\n",
       "      <td>NaN</td>\n",
       "      <td>NaN</td>\n",
       "      <td>NaN</td>\n",
       "      <td>NaN</td>\n",
       "      <td>NaN</td>\n",
       "    </tr>\n",
       "  </tbody>\n",
       "</table>\n",
       "<p>5 rows × 66 columns</p>\n",
       "</div>"
      ],
      "text/plain": [
       "  Country Name Country Code Counterpart-Area Name Counterpart-Area Code  \\\n",
       "0  Afghanistan          AFG                 World                   WLD   \n",
       "1  Afghanistan          AFG                 World                   WLD   \n",
       "2  Afghanistan          AFG                 World                   WLD   \n",
       "3  Afghanistan          AFG                 World                   WLD   \n",
       "4  Afghanistan          AFG                 World                   WLD   \n",
       "\n",
       "                                         Series Name  Series Code  1970  1971  \\\n",
       "0  Average grace period on new external debt comm...  DT.GPA.DPPG   NaN   NaN   \n",
       "1  Average grace period on new external debt comm...  DT.GPA.OFFT   NaN   NaN   \n",
       "2  Average grace period on new external debt comm...  DT.GPA.PRVT   NaN   NaN   \n",
       "3  Average grant element on new external debt com...  DT.GRE.DPPG   NaN   NaN   \n",
       "4  Average grant element on new external debt com...  DT.GRE.OFFT   NaN   NaN   \n",
       "\n",
       "   1972  1973  ...  2020  2021  2022  2023  2024  2025  2026  2027  2028  2029  \n",
       "0   NaN   NaN  ...   0.0   0.0   NaN   NaN   NaN   NaN   NaN   NaN   NaN   NaN  \n",
       "1   NaN   NaN  ...   0.0   0.0   NaN   NaN   NaN   NaN   NaN   NaN   NaN   NaN  \n",
       "2   NaN   NaN  ...   0.0   0.0   NaN   NaN   NaN   NaN   NaN   NaN   NaN   NaN  \n",
       "3   NaN   NaN  ...   0.0   0.0   NaN   NaN   NaN   NaN   NaN   NaN   NaN   NaN  \n",
       "4   NaN   NaN  ...   0.0   0.0   NaN   NaN   NaN   NaN   NaN   NaN   NaN   NaN  \n",
       "\n",
       "[5 rows x 66 columns]"
      ]
     },
     "execution_count": 106,
     "metadata": {},
     "output_type": "execute_result"
    }
   ],
   "source": [
    "df = pd.read_csv('IDS_ALLCountries_Data.csv')\n",
    "df.head()"
   ]
  },
  {
   "cell_type": "markdown",
   "id": "6a7f8b7c",
   "metadata": {},
   "source": [
    "#### Data Information  <a class=\"anchor\" id=\"section1_2\"></a>\n",
    "\n",
    "Some immediate insights on the data are:\n",
    "- There are 76,820 rows and 66 columns in the dataset..\n",
    "- There is a total of 137 countries included in the dataset.\n",
    "- The South East Asian Countries that have data included in the dataset are: __Philippines, Indonesia, Cambodia, Myanmar, Thailand, and Vietnam.__ \n",
    "- The column number 6 to column number 65 contains data that can be compiled into a single column."
   ]
  },
  {
   "cell_type": "code",
   "execution_count": 107,
   "id": "d21d5907",
   "metadata": {},
   "outputs": [
    {
     "name": "stdout",
     "output_type": "stream",
     "text": [
      "<class 'pandas.core.frame.DataFrame'>\n",
      "RangeIndex: 76820 entries, 0 to 76819\n",
      "Data columns (total 66 columns):\n",
      " #   Column                 Non-Null Count  Dtype  \n",
      "---  ------                 --------------  -----  \n",
      " 0   Country Name           76817 non-null  object \n",
      " 1   Country Code           76815 non-null  object \n",
      " 2   Counterpart-Area Name  76815 non-null  object \n",
      " 3   Counterpart-Area Code  76815 non-null  object \n",
      " 4   Series Name            76815 non-null  object \n",
      " 5   Series Code            76815 non-null  object \n",
      " 6   1970                   34740 non-null  float64\n",
      " 7   1971                   35586 non-null  float64\n",
      " 8   1972                   36240 non-null  float64\n",
      " 9   1973                   37015 non-null  float64\n",
      " 10  1974                   37552 non-null  float64\n",
      " 11  1975                   38326 non-null  float64\n",
      " 12  1976                   38764 non-null  float64\n",
      " 13  1977                   39645 non-null  float64\n",
      " 14  1978                   40283 non-null  float64\n",
      " 15  1979                   40542 non-null  float64\n",
      " 16  1980                   41287 non-null  float64\n",
      " 17  1981                   42922 non-null  float64\n",
      " 18  1982                   43241 non-null  float64\n",
      " 19  1983                   43547 non-null  float64\n",
      " 20  1984                   44037 non-null  float64\n",
      " 21  1985                   44417 non-null  float64\n",
      " 22  1986                   44567 non-null  float64\n",
      " 23  1987                   44166 non-null  float64\n",
      " 24  1988                   44024 non-null  float64\n",
      " 25  1989                   45261 non-null  float64\n",
      " 26  1990                   45249 non-null  float64\n",
      " 27  1991                   45063 non-null  float64\n",
      " 28  1992                   46195 non-null  float64\n",
      " 29  1993                   47063 non-null  float64\n",
      " 30  1994                   47717 non-null  float64\n",
      " 31  1995                   48006 non-null  float64\n",
      " 32  1996                   48654 non-null  float64\n",
      " 33  1997                   48639 non-null  float64\n",
      " 34  1998                   48925 non-null  float64\n",
      " 35  1999                   50410 non-null  float64\n",
      " 36  2000                   50027 non-null  float64\n",
      " 37  2001                   50026 non-null  float64\n",
      " 38  2002                   49825 non-null  float64\n",
      " 39  2003                   49596 non-null  float64\n",
      " 40  2004                   49770 non-null  float64\n",
      " 41  2005                   49655 non-null  float64\n",
      " 42  2006                   49779 non-null  float64\n",
      " 43  2007                   50007 non-null  float64\n",
      " 44  2008                   49806 non-null  float64\n",
      " 45  2009                   50035 non-null  float64\n",
      " 46  2010                   50004 non-null  float64\n",
      " 47  2011                   49282 non-null  float64\n",
      " 48  2012                   49197 non-null  float64\n",
      " 49  2013                   49590 non-null  float64\n",
      " 50  2014                   50707 non-null  float64\n",
      " 51  2015                   50226 non-null  float64\n",
      " 52  2016                   49933 non-null  float64\n",
      " 53  2017                   50095 non-null  float64\n",
      " 54  2018                   50005 non-null  float64\n",
      " 55  2019                   49893 non-null  float64\n",
      " 56  2020                   50207 non-null  float64\n",
      " 57  2021                   50104 non-null  float64\n",
      " 58  2022                   12860 non-null  float64\n",
      " 59  2023                   12763 non-null  float64\n",
      " 60  2024                   12657 non-null  float64\n",
      " 61  2025                   12449 non-null  float64\n",
      " 62  2026                   12207 non-null  float64\n",
      " 63  2027                   12042 non-null  float64\n",
      " 64  2028                   11753 non-null  float64\n",
      " 65  2029                   11461 non-null  float64\n",
      "dtypes: float64(60), object(6)\n",
      "memory usage: 38.7+ MB\n"
     ]
    }
   ],
   "source": [
    "df.info()"
   ]
  },
  {
   "cell_type": "code",
   "execution_count": 108,
   "id": "26a956ee",
   "metadata": {},
   "outputs": [
    {
     "data": {
      "text/plain": [
       "137"
      ]
     },
     "execution_count": 108,
     "metadata": {},
     "output_type": "execute_result"
    }
   ],
   "source": [
    "df['Country Name'].nunique()"
   ]
  },
  {
   "cell_type": "markdown",
   "id": "9b57ef2b",
   "metadata": {},
   "source": [
    "## Data Cleaning <a class=\"anchor\" id=\"cleaning\"></a>\n",
    "\n",
    "Since the dataset is large and there are a total of 136 countries, the first step on the data cleaning process is to get only the data of the South East Asian countries that were included in the dataset."
   ]
  },
  {
   "cell_type": "code",
   "execution_count": 109,
   "id": "0b7d9f91",
   "metadata": {},
   "outputs": [],
   "source": [
    "sea_countries = df[df['Country Name'].isin(['Philippines', 'Indonesia', 'Cambodia', 'Myanmar', 'Thailand', 'Vietnam'])].reset_index(drop=True)\n"
   ]
  },
  {
   "cell_type": "markdown",
   "id": "d4026e3c",
   "metadata": {},
   "source": [
    "###### Getting the Relevant Data <a class=\"anchor\" id=\"section2_1\"></a>"
   ]
  },
  {
   "cell_type": "code",
   "execution_count": 110,
   "id": "b30141dc",
   "metadata": {},
   "outputs": [
    {
     "data": {
      "text/html": [
       "<div>\n",
       "<style scoped>\n",
       "    .dataframe tbody tr th:only-of-type {\n",
       "        vertical-align: middle;\n",
       "    }\n",
       "\n",
       "    .dataframe tbody tr th {\n",
       "        vertical-align: top;\n",
       "    }\n",
       "\n",
       "    .dataframe thead th {\n",
       "        text-align: right;\n",
       "    }\n",
       "</style>\n",
       "<table border=\"1\" class=\"dataframe\">\n",
       "  <thead>\n",
       "    <tr style=\"text-align: right;\">\n",
       "      <th></th>\n",
       "      <th>Country Name</th>\n",
       "      <th>Country Code</th>\n",
       "      <th>Series Code</th>\n",
       "      <th>Year</th>\n",
       "      <th>Debt in USD</th>\n",
       "    </tr>\n",
       "  </thead>\n",
       "  <tbody>\n",
       "    <tr>\n",
       "      <th>0</th>\n",
       "      <td>Cambodia</td>\n",
       "      <td>KHM</td>\n",
       "      <td>DT.GPA.DPPG</td>\n",
       "      <td>2011</td>\n",
       "      <td>9.6828</td>\n",
       "    </tr>\n",
       "    <tr>\n",
       "      <th>1</th>\n",
       "      <td>Cambodia</td>\n",
       "      <td>KHM</td>\n",
       "      <td>DT.GPA.OFFT</td>\n",
       "      <td>2011</td>\n",
       "      <td>9.6828</td>\n",
       "    </tr>\n",
       "    <tr>\n",
       "      <th>2</th>\n",
       "      <td>Cambodia</td>\n",
       "      <td>KHM</td>\n",
       "      <td>DT.GPA.PRVT</td>\n",
       "      <td>2011</td>\n",
       "      <td>0.0000</td>\n",
       "    </tr>\n",
       "    <tr>\n",
       "      <th>3</th>\n",
       "      <td>Cambodia</td>\n",
       "      <td>KHM</td>\n",
       "      <td>DT.GRE.DPPG</td>\n",
       "      <td>2011</td>\n",
       "      <td>43.7017</td>\n",
       "    </tr>\n",
       "    <tr>\n",
       "      <th>4</th>\n",
       "      <td>Cambodia</td>\n",
       "      <td>KHM</td>\n",
       "      <td>DT.GRE.OFFT</td>\n",
       "      <td>2011</td>\n",
       "      <td>43.7017</td>\n",
       "    </tr>\n",
       "  </tbody>\n",
       "</table>\n",
       "</div>"
      ],
      "text/plain": [
       "  Country Name Country Code  Series Code  Year  Debt in USD\n",
       "0     Cambodia          KHM  DT.GPA.DPPG  2011       9.6828\n",
       "1     Cambodia          KHM  DT.GPA.OFFT  2011       9.6828\n",
       "2     Cambodia          KHM  DT.GPA.PRVT  2011       0.0000\n",
       "3     Cambodia          KHM  DT.GRE.DPPG  2011      43.7017\n",
       "4     Cambodia          KHM  DT.GRE.OFFT  2011      43.7017"
      ]
     },
     "execution_count": 110,
     "metadata": {},
     "output_type": "execute_result"
    }
   ],
   "source": [
    "#I will take the columns that I need in my analysis retsructure it\n",
    "value_vars = [str(year) for year in range(2011, 2022)]\n",
    "sea_countries = pd.melt(frame=sea_countries,\n",
    "                        id_vars=['Country Name', 'Country Code', 'Series Code'],\n",
    "                        value_vars=value_vars, value_name='Debt in USD', var_name='Year')\n",
    "\n",
    "sea_countries.head()"
   ]
  },
  {
   "cell_type": "code",
   "execution_count": 111,
   "id": "a693cc18",
   "metadata": {
    "scrolled": true
   },
   "outputs": [
    {
     "data": {
      "text/plain": [
       "Country Name     object\n",
       "Country Code     object\n",
       "Series Code      object\n",
       "Year             object\n",
       "Debt in USD     float64\n",
       "dtype: object"
      ]
     },
     "execution_count": 111,
     "metadata": {},
     "output_type": "execute_result"
    }
   ],
   "source": [
    "sea_countries.dtypes"
   ]
  },
  {
   "cell_type": "code",
   "execution_count": 112,
   "id": "6821c1df",
   "metadata": {},
   "outputs": [
    {
     "data": {
      "text/plain": [
       "Country Name     object\n",
       "Country Code     object\n",
       "Series Code      object\n",
       "Year              int32\n",
       "Debt in USD     float64\n",
       "dtype: object"
      ]
     },
     "execution_count": 112,
     "metadata": {},
     "output_type": "execute_result"
    }
   ],
   "source": [
    "#I will change the data type of the column Year into integer\n",
    "sea_countries['Year'] = sea_countries['Year'].astype(int)\n",
    "\n",
    "sea_countries.dtypes"
   ]
  },
  {
   "cell_type": "code",
   "execution_count": 113,
   "id": "965decc5",
   "metadata": {
    "scrolled": false
   },
   "outputs": [
    {
     "data": {
      "text/html": [
       "<div>\n",
       "<style scoped>\n",
       "    .dataframe tbody tr th:only-of-type {\n",
       "        vertical-align: middle;\n",
       "    }\n",
       "\n",
       "    .dataframe tbody tr th {\n",
       "        vertical-align: top;\n",
       "    }\n",
       "\n",
       "    .dataframe thead th {\n",
       "        text-align: right;\n",
       "    }\n",
       "</style>\n",
       "<table border=\"1\" class=\"dataframe\">\n",
       "  <thead>\n",
       "    <tr style=\"text-align: right;\">\n",
       "      <th></th>\n",
       "      <th>Country Name</th>\n",
       "      <th>Country Code</th>\n",
       "      <th>Series Code</th>\n",
       "      <th>Year</th>\n",
       "      <th>Debt in USD</th>\n",
       "    </tr>\n",
       "  </thead>\n",
       "  <tbody>\n",
       "    <tr>\n",
       "      <th>count</th>\n",
       "      <td>37554</td>\n",
       "      <td>37554</td>\n",
       "      <td>37554</td>\n",
       "      <td>37554.00000</td>\n",
       "      <td>2.610200e+04</td>\n",
       "    </tr>\n",
       "    <tr>\n",
       "      <th>unique</th>\n",
       "      <td>6</td>\n",
       "      <td>6</td>\n",
       "      <td>569</td>\n",
       "      <td>NaN</td>\n",
       "      <td>NaN</td>\n",
       "    </tr>\n",
       "    <tr>\n",
       "      <th>top</th>\n",
       "      <td>Cambodia</td>\n",
       "      <td>KHM</td>\n",
       "      <td>DT.GPA.DPPG</td>\n",
       "      <td>NaN</td>\n",
       "      <td>NaN</td>\n",
       "    </tr>\n",
       "    <tr>\n",
       "      <th>freq</th>\n",
       "      <td>6259</td>\n",
       "      <td>6259</td>\n",
       "      <td>66</td>\n",
       "      <td>NaN</td>\n",
       "      <td>NaN</td>\n",
       "    </tr>\n",
       "    <tr>\n",
       "      <th>mean</th>\n",
       "      <td>NaN</td>\n",
       "      <td>NaN</td>\n",
       "      <td>NaN</td>\n",
       "      <td>2016.00000</td>\n",
       "      <td>5.451521e+09</td>\n",
       "    </tr>\n",
       "    <tr>\n",
       "      <th>std</th>\n",
       "      <td>NaN</td>\n",
       "      <td>NaN</td>\n",
       "      <td>NaN</td>\n",
       "      <td>3.16232</td>\n",
       "      <td>3.155323e+10</td>\n",
       "    </tr>\n",
       "    <tr>\n",
       "      <th>min</th>\n",
       "      <td>NaN</td>\n",
       "      <td>NaN</td>\n",
       "      <td>NaN</td>\n",
       "      <td>2011.00000</td>\n",
       "      <td>-3.063312e+10</td>\n",
       "    </tr>\n",
       "    <tr>\n",
       "      <th>25%</th>\n",
       "      <td>NaN</td>\n",
       "      <td>NaN</td>\n",
       "      <td>NaN</td>\n",
       "      <td>2013.00000</td>\n",
       "      <td>6.573165e+00</td>\n",
       "    </tr>\n",
       "    <tr>\n",
       "      <th>50%</th>\n",
       "      <td>NaN</td>\n",
       "      <td>NaN</td>\n",
       "      <td>NaN</td>\n",
       "      <td>2016.00000</td>\n",
       "      <td>1.244187e+08</td>\n",
       "    </tr>\n",
       "    <tr>\n",
       "      <th>75%</th>\n",
       "      <td>NaN</td>\n",
       "      <td>NaN</td>\n",
       "      <td>NaN</td>\n",
       "      <td>2019.00000</td>\n",
       "      <td>1.355172e+09</td>\n",
       "    </tr>\n",
       "    <tr>\n",
       "      <th>max</th>\n",
       "      <td>NaN</td>\n",
       "      <td>NaN</td>\n",
       "      <td>NaN</td>\n",
       "      <td>2021.00000</td>\n",
       "      <td>1.154470e+12</td>\n",
       "    </tr>\n",
       "  </tbody>\n",
       "</table>\n",
       "</div>"
      ],
      "text/plain": [
       "       Country Name Country Code  Series Code         Year   Debt in USD\n",
       "count         37554        37554        37554  37554.00000  2.610200e+04\n",
       "unique            6            6          569          NaN           NaN\n",
       "top        Cambodia          KHM  DT.GPA.DPPG          NaN           NaN\n",
       "freq           6259         6259           66          NaN           NaN\n",
       "mean            NaN          NaN          NaN   2016.00000  5.451521e+09\n",
       "std             NaN          NaN          NaN      3.16232  3.155323e+10\n",
       "min             NaN          NaN          NaN   2011.00000 -3.063312e+10\n",
       "25%             NaN          NaN          NaN   2013.00000  6.573165e+00\n",
       "50%             NaN          NaN          NaN   2016.00000  1.244187e+08\n",
       "75%             NaN          NaN          NaN   2019.00000  1.355172e+09\n",
       "max             NaN          NaN          NaN   2021.00000  1.154470e+12"
      ]
     },
     "execution_count": 113,
     "metadata": {},
     "output_type": "execute_result"
    }
   ],
   "source": [
    "sea_countries.describe(include='all')"
   ]
  },
  {
   "cell_type": "markdown",
   "id": "04a7a090",
   "metadata": {},
   "source": [
    "###### Treatment for Missing Values <a class=\"anchor\" id=\"section2_2\"></a>"
   ]
  },
  {
   "cell_type": "code",
   "execution_count": 114,
   "id": "3e68785b",
   "metadata": {},
   "outputs": [
    {
     "data": {
      "text/plain": [
       "Country Name        0\n",
       "Country Code        0\n",
       "Series Code         0\n",
       "Year                0\n",
       "Debt in USD     11452\n",
       "dtype: int64"
      ]
     },
     "execution_count": 114,
     "metadata": {},
     "output_type": "execute_result"
    }
   ],
   "source": [
    "#count missing values\n",
    "sea_countries.isna().sum()"
   ]
  },
  {
   "cell_type": "code",
   "execution_count": 115,
   "id": "27053f6d",
   "metadata": {},
   "outputs": [
    {
     "data": {
      "text/html": [
       "<div>\n",
       "<style scoped>\n",
       "    .dataframe tbody tr th:only-of-type {\n",
       "        vertical-align: middle;\n",
       "    }\n",
       "\n",
       "    .dataframe tbody tr th {\n",
       "        vertical-align: top;\n",
       "    }\n",
       "\n",
       "    .dataframe thead th {\n",
       "        text-align: right;\n",
       "    }\n",
       "</style>\n",
       "<table border=\"1\" class=\"dataframe\">\n",
       "  <thead>\n",
       "    <tr style=\"text-align: right;\">\n",
       "      <th></th>\n",
       "      <th>Country Name</th>\n",
       "      <th>Country Code</th>\n",
       "      <th>Series Code</th>\n",
       "      <th>Year</th>\n",
       "      <th>Debt in USD</th>\n",
       "    </tr>\n",
       "  </thead>\n",
       "  <tbody>\n",
       "    <tr>\n",
       "      <th>12</th>\n",
       "      <td>Cambodia</td>\n",
       "      <td>KHM</td>\n",
       "      <td>DT.AMT.BLAT.CB.CD</td>\n",
       "      <td>2011</td>\n",
       "      <td>NaN</td>\n",
       "    </tr>\n",
       "    <tr>\n",
       "      <th>13</th>\n",
       "      <td>Cambodia</td>\n",
       "      <td>KHM</td>\n",
       "      <td>DT.DIS.BLAT.CB.CD</td>\n",
       "      <td>2011</td>\n",
       "      <td>NaN</td>\n",
       "    </tr>\n",
       "    <tr>\n",
       "      <th>14</th>\n",
       "      <td>Cambodia</td>\n",
       "      <td>KHM</td>\n",
       "      <td>DT.DOD.BLAT.CB.CD</td>\n",
       "      <td>2011</td>\n",
       "      <td>NaN</td>\n",
       "    </tr>\n",
       "    <tr>\n",
       "      <th>15</th>\n",
       "      <td>Cambodia</td>\n",
       "      <td>KHM</td>\n",
       "      <td>DT.INT.BLAT.CB.CD</td>\n",
       "      <td>2011</td>\n",
       "      <td>NaN</td>\n",
       "    </tr>\n",
       "    <tr>\n",
       "      <th>16</th>\n",
       "      <td>Cambodia</td>\n",
       "      <td>KHM</td>\n",
       "      <td>DT.NFL.BLAT.CB.CD</td>\n",
       "      <td>2011</td>\n",
       "      <td>NaN</td>\n",
       "    </tr>\n",
       "    <tr>\n",
       "      <th>17</th>\n",
       "      <td>Cambodia</td>\n",
       "      <td>KHM</td>\n",
       "      <td>DT.NTR.BLAT.CB.CD</td>\n",
       "      <td>2011</td>\n",
       "      <td>NaN</td>\n",
       "    </tr>\n",
       "    <tr>\n",
       "      <th>18</th>\n",
       "      <td>Cambodia</td>\n",
       "      <td>KHM</td>\n",
       "      <td>DT.TDS.BLAT.CB.CD</td>\n",
       "      <td>2011</td>\n",
       "      <td>NaN</td>\n",
       "    </tr>\n",
       "    <tr>\n",
       "      <th>19</th>\n",
       "      <td>Cambodia</td>\n",
       "      <td>KHM</td>\n",
       "      <td>DT.AMT.BLTC.CB.CD</td>\n",
       "      <td>2011</td>\n",
       "      <td>NaN</td>\n",
       "    </tr>\n",
       "    <tr>\n",
       "      <th>20</th>\n",
       "      <td>Cambodia</td>\n",
       "      <td>KHM</td>\n",
       "      <td>DT.DIS.BLTC.CB.CD</td>\n",
       "      <td>2011</td>\n",
       "      <td>NaN</td>\n",
       "    </tr>\n",
       "    <tr>\n",
       "      <th>21</th>\n",
       "      <td>Cambodia</td>\n",
       "      <td>KHM</td>\n",
       "      <td>DT.DOD.BLTC.CB.CD</td>\n",
       "      <td>2011</td>\n",
       "      <td>NaN</td>\n",
       "    </tr>\n",
       "  </tbody>\n",
       "</table>\n",
       "</div>"
      ],
      "text/plain": [
       "   Country Name Country Code        Series Code  Year  Debt in USD\n",
       "12     Cambodia          KHM  DT.AMT.BLAT.CB.CD  2011          NaN\n",
       "13     Cambodia          KHM  DT.DIS.BLAT.CB.CD  2011          NaN\n",
       "14     Cambodia          KHM  DT.DOD.BLAT.CB.CD  2011          NaN\n",
       "15     Cambodia          KHM  DT.INT.BLAT.CB.CD  2011          NaN\n",
       "16     Cambodia          KHM  DT.NFL.BLAT.CB.CD  2011          NaN\n",
       "17     Cambodia          KHM  DT.NTR.BLAT.CB.CD  2011          NaN\n",
       "18     Cambodia          KHM  DT.TDS.BLAT.CB.CD  2011          NaN\n",
       "19     Cambodia          KHM  DT.AMT.BLTC.CB.CD  2011          NaN\n",
       "20     Cambodia          KHM  DT.DIS.BLTC.CB.CD  2011          NaN\n",
       "21     Cambodia          KHM  DT.DOD.BLTC.CB.CD  2011          NaN"
      ]
     },
     "execution_count": 115,
     "metadata": {},
     "output_type": "execute_result"
    }
   ],
   "source": [
    "#check the nan values\n",
    "sea_countries[sea_countries.isnull().any(axis=1)].head(10)"
   ]
  },
  {
   "cell_type": "markdown",
   "id": "eccf25a0",
   "metadata": {},
   "source": [
    "The NaN values in the dataset will be ignored for the purpose of this analysis. This is because the debts were categorized into 569 series codes, and each of these series codes have a frequency of 60. Therefore it is safe to assume that the NaN values in the `Debt in USD` column means that there is no debt incurred that can be categorized in that series code, hence it will not affect the computation."
   ]
  },
  {
   "cell_type": "code",
   "execution_count": 117,
   "id": "fe974b08",
   "metadata": {},
   "outputs": [],
   "source": [
    "#Drop nan values\n",
    "sea_countries = sea_countries.dropna().reset_index(drop=True)"
   ]
  },
  {
   "cell_type": "markdown",
   "id": "3f07b79a",
   "metadata": {},
   "source": [
    "## Exploratory Data Analysis <a class=\"anchor\" id=\"EDA\"></a>\n",
    "\n",
    "The variables that will be the focus of the EDA are `Country Name`, `Year`, and `Debt in USD`. The following research questions that the EDA seeks to answer are:\n",
    "- What is the distribution of the debt for each countries between the years 2011-2021?\n",
    "- Which country in South East Asia has the highest average debt? Which has the lowest average debt?\n",
    "- Did the total debt of each countries in South East Asia increase within the decade?"
   ]
  },
  {
   "cell_type": "markdown",
   "id": "80f77ca3",
   "metadata": {},
   "source": [
    "### SEA Countries Distribution of Debt for the years 2011 to 2021 <a class=\"anchor\" id=\"section3_1\"></a>\n",
    "\n",
    "This section aims to answer the question:\n",
    "      \n",
    "      What is the distribution of the debt for each countries between the years 2011-2021?\n",
    "      \n",
    "The data distribution will be visualized using a side-by-side boxplots."
   ]
  },
  {
   "cell_type": "code",
   "execution_count": 118,
   "id": "031aa413",
   "metadata": {
    "scrolled": false
   },
   "outputs": [
    {
     "data": {
      "image/png": "[encoded data removed]",
      "text/plain": [
       "<Figure size 576x432 with 1 Axes>"
      ]
     },
     "metadata": {},
     "output_type": "display_data"
    },
    {
     "data": {
      "text/plain": [
       "<Figure size 576x1152 with 0 Axes>"
      ]
     },
     "metadata": {},
     "output_type": "display_data"
    }
   ],
   "source": [
    "#create a variable that will store the total average debt of each countries for each year\n",
    "country_total_debt = sea_countries.groupby(['Country Name', 'Year'])['Debt in USD'].sum().reset_index()\n",
    "\n",
    "#visualize distribution using boxplot\n",
    "plt.figure(figsize=(8,6))\n",
    "sns.boxplot(data = country_total_debt, x = 'Country Name', y = 'Debt in USD')\n",
    "plt.show()\n",
    "plt.clf()"
   ]
  },
  {
   "cell_type": "markdown",
   "id": "94dd7015",
   "metadata": {},
   "source": [
    "###### Analysis\n",
    "Based on the boxplot above, the median of the Indonesia have the largest variation of data while Myanmar has the lowest variation of data. There is also an outlier in the Philippines' data distribution."
   ]
  },
  {
   "cell_type": "markdown",
   "id": "dc860eb5",
   "metadata": {},
   "source": [
    "### SEA Countries with the Highest and Lowest Average Debt <a class=\"anchor\" id=\"section3_2\"></a>\n",
    "\n",
    "This section aims to answer the question:\n",
    "    \n",
    "    Which country in South East Asia has the highest average debt? Which has the lowest average debt?\n",
    "\n",
    "First, the total average debt for each countries will be computed and then visualized using a bar chart. In addition, the average debt per year for each countries will also be computed and then visualized using a grouped bar chart."
   ]
  },
  {
   "cell_type": "code",
   "execution_count": 119,
   "id": "d3fa74cd",
   "metadata": {},
   "outputs": [
    {
     "data": {
      "text/html": [
       "<div>\n",
       "<style scoped>\n",
       "    .dataframe tbody tr th:only-of-type {\n",
       "        vertical-align: middle;\n",
       "    }\n",
       "\n",
       "    .dataframe tbody tr th {\n",
       "        vertical-align: top;\n",
       "    }\n",
       "\n",
       "    .dataframe thead th {\n",
       "        text-align: right;\n",
       "    }\n",
       "</style>\n",
       "<table border=\"1\" class=\"dataframe\">\n",
       "  <thead>\n",
       "    <tr style=\"text-align: right;\">\n",
       "      <th></th>\n",
       "      <th>Country Name</th>\n",
       "      <th>Debt in USD</th>\n",
       "    </tr>\n",
       "  </thead>\n",
       "  <tbody>\n",
       "    <tr>\n",
       "      <th>0</th>\n",
       "      <td>Cambodia</td>\n",
       "      <td>8.691925e+08</td>\n",
       "    </tr>\n",
       "    <tr>\n",
       "      <th>1</th>\n",
       "      <td>Indonesia</td>\n",
       "      <td>1.465459e+10</td>\n",
       "    </tr>\n",
       "    <tr>\n",
       "      <th>2</th>\n",
       "      <td>Myanmar</td>\n",
       "      <td>8.091907e+08</td>\n",
       "    </tr>\n",
       "    <tr>\n",
       "      <th>3</th>\n",
       "      <td>Philippines</td>\n",
       "      <td>3.722191e+09</td>\n",
       "    </tr>\n",
       "    <tr>\n",
       "      <th>4</th>\n",
       "      <td>Thailand</td>\n",
       "      <td>7.047640e+09</td>\n",
       "    </tr>\n",
       "    <tr>\n",
       "      <th>5</th>\n",
       "      <td>Vietnam</td>\n",
       "      <td>4.365080e+09</td>\n",
       "    </tr>\n",
       "  </tbody>\n",
       "</table>\n",
       "</div>"
      ],
      "text/plain": [
       "  Country Name   Debt in USD\n",
       "0     Cambodia  8.691925e+08\n",
       "1    Indonesia  1.465459e+10\n",
       "2      Myanmar  8.091907e+08\n",
       "3  Philippines  3.722191e+09\n",
       "4     Thailand  7.047640e+09\n",
       "5      Vietnam  4.365080e+09"
      ]
     },
     "execution_count": 119,
     "metadata": {},
     "output_type": "execute_result"
    }
   ],
   "source": [
    "#Exclude the rows with 0 values in the dataset to not affect the mean then find the total average debt of each country\n",
    "mean_debt = sea_countries.groupby('Country Name')['Debt in USD'].mean().reset_index()\n",
    "mean_debt"
   ]
  },
  {
   "cell_type": "code",
   "execution_count": 120,
   "id": "f153cc98",
   "metadata": {},
   "outputs": [
    {
     "data": {
      "image/png": "[encoded data removed]",
      "text/plain": [
       "<Figure size 576x432 with 1 Axes>"
      ]
     },
     "metadata": {},
     "output_type": "display_data"
    },
    {
     "data": {
      "text/plain": [
       "<Figure size 576x1152 with 0 Axes>"
      ]
     },
     "metadata": {},
     "output_type": "display_data"
    }
   ],
   "source": [
    "#Compare the total average debt of SEA countries\n",
    "plt.figure(figsize=(8,6))\n",
    "plt.bar(mean_debt['Country Name'], mean_debt['Debt in USD'])\n",
    "plt.xlabel('Countries')\n",
    "plt.ylabel('Average Debt')\n",
    "plt.title('Average Debt by Country')\n",
    "plt.show()\n",
    "plt.clf()"
   ]
  },
  {
   "cell_type": "code",
   "execution_count": 121,
   "id": "167fce2e",
   "metadata": {},
   "outputs": [
    {
     "data": {
      "text/html": [
       "<div>\n",
       "<style scoped>\n",
       "    .dataframe tbody tr th:only-of-type {\n",
       "        vertical-align: middle;\n",
       "    }\n",
       "\n",
       "    .dataframe tbody tr th {\n",
       "        vertical-align: top;\n",
       "    }\n",
       "\n",
       "    .dataframe thead th {\n",
       "        text-align: right;\n",
       "    }\n",
       "</style>\n",
       "<table border=\"1\" class=\"dataframe\">\n",
       "  <thead>\n",
       "    <tr style=\"text-align: right;\">\n",
       "      <th></th>\n",
       "      <th>Country Name</th>\n",
       "      <th>Year</th>\n",
       "      <th>Debt in USD</th>\n",
       "    </tr>\n",
       "  </thead>\n",
       "  <tbody>\n",
       "    <tr>\n",
       "      <th>0</th>\n",
       "      <td>Cambodia</td>\n",
       "      <td>2012</td>\n",
       "      <td>8.156998e+08</td>\n",
       "    </tr>\n",
       "    <tr>\n",
       "      <th>1</th>\n",
       "      <td>Cambodia</td>\n",
       "      <td>2013</td>\n",
       "      <td>7.973385e+08</td>\n",
       "    </tr>\n",
       "    <tr>\n",
       "      <th>2</th>\n",
       "      <td>Cambodia</td>\n",
       "      <td>2014</td>\n",
       "      <td>8.662301e+08</td>\n",
       "    </tr>\n",
       "    <tr>\n",
       "      <th>3</th>\n",
       "      <td>Cambodia</td>\n",
       "      <td>2015</td>\n",
       "      <td>9.534394e+08</td>\n",
       "    </tr>\n",
       "    <tr>\n",
       "      <th>4</th>\n",
       "      <td>Cambodia</td>\n",
       "      <td>2016</td>\n",
       "      <td>9.487214e+08</td>\n",
       "    </tr>\n",
       "    <tr>\n",
       "      <th>5</th>\n",
       "      <td>Cambodia</td>\n",
       "      <td>2017</td>\n",
       "      <td>1.130674e+09</td>\n",
       "    </tr>\n",
       "    <tr>\n",
       "      <th>6</th>\n",
       "      <td>Cambodia</td>\n",
       "      <td>2018</td>\n",
       "      <td>1.317652e+09</td>\n",
       "    </tr>\n",
       "    <tr>\n",
       "      <th>7</th>\n",
       "      <td>Cambodia</td>\n",
       "      <td>2019</td>\n",
       "      <td>1.415679e+09</td>\n",
       "    </tr>\n",
       "    <tr>\n",
       "      <th>8</th>\n",
       "      <td>Cambodia</td>\n",
       "      <td>2020</td>\n",
       "      <td>1.588043e+09</td>\n",
       "    </tr>\n",
       "    <tr>\n",
       "      <th>9</th>\n",
       "      <td>Cambodia</td>\n",
       "      <td>2021</td>\n",
       "      <td>1.760843e+09</td>\n",
       "    </tr>\n",
       "  </tbody>\n",
       "</table>\n",
       "</div>"
      ],
      "text/plain": [
       "  Country Name  Year   Debt in USD\n",
       "0     Cambodia  2012  8.156998e+08\n",
       "1     Cambodia  2013  7.973385e+08\n",
       "2     Cambodia  2014  8.662301e+08\n",
       "3     Cambodia  2015  9.534394e+08\n",
       "4     Cambodia  2016  9.487214e+08\n",
       "5     Cambodia  2017  1.130674e+09\n",
       "6     Cambodia  2018  1.317652e+09\n",
       "7     Cambodia  2019  1.415679e+09\n",
       "8     Cambodia  2020  1.588043e+09\n",
       "9     Cambodia  2021  1.760843e+09"
      ]
     },
     "execution_count": 121,
     "metadata": {},
     "output_type": "execute_result"
    }
   ],
   "source": [
    "#Find Average Debt per Year of each countries\n",
    "mean_debt_peryr = debt_data.groupby(['Country Name', 'Year'])['Debt in USD'].mean().reset_index()\n",
    "mean_debt_peryr.head(10)"
   ]
  },
  {
   "cell_type": "code",
   "execution_count": 122,
   "id": "fa5631ab",
   "metadata": {},
   "outputs": [
    {
     "data": {
      "text/plain": [
       "<Figure size 576x1152 with 0 Axes>"
      ]
     },
     "metadata": {},
     "output_type": "display_data"
    },
    {
     "data": {
      "image/png": "[encoded data removed]",
      "text/plain": [
       "<Figure size 576x1152 with 1 Axes>"
      ]
     },
     "metadata": {},
     "output_type": "display_data"
    },
    {
     "data": {
      "text/plain": [
       "<Figure size 576x1152 with 0 Axes>"
      ]
     },
     "metadata": {},
     "output_type": "display_data"
    }
   ],
   "source": [
    "#Compare the Average debt of SEA countries each year\n",
    "fig = plt.figure(figsize=(8, 16))\n",
    "plt.rcParams[\"figure.figsize\"]=(8, 16)\n",
    "year_ave_debt = mean_debt_peryr.pivot(index='Year', columns= 'Country Name',\n",
    "                      values = 'Debt in USD').plot.barh()\n",
    "year_ave_debt.legend(bbox_to_anchor=(1,1), loc = 'upper left')\n",
    "plt.tight_layout()\n",
    "plt.show()\n",
    "plt.clf()"
   ]
  },
  {
   "cell_type": "markdown",
   "id": "9159067f",
   "metadata": {},
   "source": [
    "###### Analysis\n",
    "Based on the graphs above, Indonesia has the highest average total debt while Cambodia has the lowest average total debt. In addition, the average external debt of Indonesia per year has always been significantly higher compared to the rest of the countries in South East Asia. It is also important to note that Myanmar also have a low level of external debt compared to the rest of the countries, except to Cambodia."
   ]
  },
  {
   "cell_type": "markdown",
   "id": "2b321809",
   "metadata": {},
   "source": [
    "### SEA Countries Total Debt for the years 2011 to 2021 <a class=\"anchor\" id=\"section3_3\"></a>\n",
    "\n",
    "This section aims to answer the question:\n",
    "    \n",
    "    Did the total debt of each countries in South East Asia increase within the decade?\n",
    "    \n",
    "To answer this question, the debts incurred by the countries within a given year will be added and stored in a new variable. Then the trend will be visualized using line graphs."
   ]
  },
  {
   "cell_type": "code",
   "execution_count": 123,
   "id": "abe0c72d",
   "metadata": {},
   "outputs": [
    {
     "data": {
      "image/png": "[encoded data removed]",
      "text/plain": [
       "<Figure size 576x432 with 1 Axes>"
      ]
     },
     "metadata": {},
     "output_type": "display_data"
    },
    {
     "data": {
      "text/plain": [
       "<Figure size 576x1152 with 0 Axes>"
      ]
     },
     "metadata": {},
     "output_type": "display_data"
    }
   ],
   "source": [
    "#Calculate total debt per year and visualize using line graph\n",
    "def total_debt(df):\n",
    "    data = df.groupby(['Country Name', 'Year'])['Debt in USD'].sum().reset_index()\n",
    "\n",
    "    plt.figure(figsize=(8,6))\n",
    "    sns.lineplot(data = data, x='Year', y='Debt in USD', hue = 'Country Name', style = 'Country Name')\n",
    "    plt.legend(bbox_to_anchor=(1,1), loc = 'upper left')\n",
    "    plt.title('Total Debt in the Past 10 Years')\n",
    "    plt.show()\n",
    "\n",
    "total_debt(sea_countries)\n",
    "plt.clf()"
   ]
  },
  {
   "cell_type": "code",
   "execution_count": 124,
   "id": "df532e22",
   "metadata": {
    "scrolled": false
   },
   "outputs": [
    {
     "data": {
      "text/plain": [
       "<Figure size 576x1152 with 0 Axes>"
      ]
     },
     "metadata": {},
     "output_type": "display_data"
    },
    {
     "data": {
      "image/png": "[encoded data removed]",
      "text/plain": [
       "<Figure size 720x1080 with 6 Axes>"
      ]
     },
     "metadata": {},
     "output_type": "display_data"
    },
    {
     "data": {
      "text/plain": [
       "<Figure size 576x1152 with 0 Axes>"
      ]
     },
     "metadata": {},
     "output_type": "display_data"
    }
   ],
   "source": [
    "#Visualize trend for each countries\n",
    "def debt(df):\n",
    "    data = df.groupby(['Country Name', 'Year'])['Debt in USD'].sum().reset_index()\n",
    "\n",
    "    fig = plt.figure()\n",
    "    fig.suptitle('Total Debt in the Past 10 Years', fontsize=16)\n",
    "    fig.subplots_adjust(top=0.9)\n",
    "    sns.relplot(\n",
    "        data = data, x='Year', y='Debt in USD',\n",
    "        col = 'Country Name', kind = 'line',col_wrap = 2,\n",
    "    )\n",
    "    for ax in fig.axes:\n",
    "        ax.set_xlim(ax.get_ylim())\n",
    "        ax.set_aspect('equal')\n",
    "    \n",
    "    plt.show()\n",
    "\n",
    "debt(sea_countries)\n",
    "plt.clf()"
   ]
  },
  {
   "cell_type": "markdown",
   "id": "34463bc9",
   "metadata": {},
   "source": [
    "###### Analysis\n",
    "The graphs above shows that the external debts of most of the countries in South East Asia were increasing over the years, except for Cambodia and Myanmar, which maintained a relatively stable level of external debt over the past 10 years."
   ]
  },
  {
   "cell_type": "markdown",
   "id": "6f4c4126",
   "metadata": {},
   "source": [
    "## Conclusion <a class=\"anchor\" id=\"conclusion\"></a>\n",
    "The analysis showed that the data distribution of the countries in South East Asia are different from each other. Among these countries, Indonesia has the highest external debt while Cambodia has the lowest external debt. Lastly, the analysis showed that the debt of each country increased for the past 10 years, except for Cambodia and Myanmar, which maintained a relatively stable level of debt."
   ]
  }
 ],
 "metadata": {
  "kernelspec": {
   "display_name": "Python 3 (ipykernel)",
   "language": "python",
   "name": "python3"
  },
  "language_info": {
   "codemirror_mode": {
    "name": "ipython",
    "version": 3
   },
   "file_extension": ".py",
   "mimetype": "text/x-python",
   "name": "python",
   "nbconvert_exporter": "python",
   "pygments_lexer": "ipython3",
   "version": "3.9.12"
  }
 },
 "nbformat": 4,
 "nbformat_minor": 5
}
